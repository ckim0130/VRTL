{
 "cells": [
  {
   "cell_type": "code",
   "execution_count": 2,
   "metadata": {},
   "outputs": [],
   "source": [
    "import numpy as np\n",
    "import pandas as pd\n",
    "from matplotlib import animation, rc\n",
    "from IPython.display import HTML\n",
    "import imageio\n",
    "import os\n",
    "import glob\n",
    "import matplotlib.pyplot as plt\n",
    "import json\n",
    "from mpl_toolkits.mplot3d import Axes3D \n",
    "from matplotlib import animation, rc, cm\n",
    "import seaborn as sns\n",
    "from sklearn.ensemble import RandomForestClassifier\n",
    "from sklearn.model_selection import train_test_split, cross_val_score\n",
    "from sklearn.metrics import classification_report\n",
    "from sklearn.preprocessing import MinMaxScaler\n",
    "\n",
    "import tensorflow as tf\n",
    "from tensorflow.keras.models import Sequential\n",
    "from tensorflow.keras.layers import LSTM, Dense, Dropout, BatchNormalization\n",
    "from tensorflow.keras.preprocessing.sequence import pad_sequences\n",
    "from tensorflow.keras.utils import to_categorical\n",
    "from tensorflow.keras.optimizers import Adam\n",
    "from tensorflow.keras.callbacks import EarlyStopping, ModelCheckpoint\n",
    "from tensorflow.keras.regularizers import l2\n",
    "from keras_self_attention import SeqSelfAttention\n",
    "\n"
   ]
  },
  {
   "cell_type": "code",
   "execution_count": 3,
   "metadata": {},
   "outputs": [],
   "source": [
    "from tensorflow.keras.models import load_model\n",
    "model = load_model('/Users/catherinekim/Desktop/VRTL/best_model.keras')"
   ]
  },
  {
   "cell_type": "code",
   "execution_count": 2,
   "metadata": {},
   "outputs": [],
   "source": [
    "#ready input file for classifier\n",
    "\n",
    "direc = '/Users/catherinekim/Desktop/VRTL'\n",
    "participants = ['VRTL3', 'VRTL6', 'VRTL9', 'VRTL10', 'VRTL11']\n",
    "#participants = ['VRTL3']\n",
    "session_label = ['S3','S4']\n",
    "camera = 'Camera6'\n",
    "\n",
    "entire_data = []\n",
    "# Loop through each participant to extract the S4 entropy\n",
    "for participant in participants:\n",
    "    # Construct the file path for each participant's entropy file\n",
    "    for session in session_label:\n",
    "        file_path = f\"{direc}/{participant}/eyetracking/preprocessed/preprocessed_{participant}{session}_{camera}.csv\"\n",
    "        data = pd.read_csv(file_path)\n",
    "\n",
    "        label = 0 if session == 'S3' else 1 #label 0 = X zombie; label 1= zombie\n",
    "\n",
    "        #adding columns\n",
    "        data['label'] = label\n",
    "        data['participant'] = participant\n",
    "        data['session'] = session\n",
    "\n",
    "        filtered_data = data[['participant','timepoint', 'x_pos_pixel','y_pos_pixel','session','label']]\n",
    "        \n",
    "        entire_data.append(filtered_data)\n",
    "    \n",
    "combined_data = pd.concat(entire_data, ignore_index = True)\n",
    "#output_file = f\"{direc}/VRTL_input_classifier.csv\"\n",
    "#combined_data.to_csv(output_file, index=False)"
   ]
  },
  {
   "cell_type": "code",
   "execution_count": 28,
   "metadata": {},
   "outputs": [],
   "source": [
    "#input file for S5 + S6\n",
    "\n",
    "direc = '/Users/catherinekim/Desktop/VRTL'\n",
    "participants = ['VRTL3', 'VRTL6', 'VRTL7','VRTL8', 'VRTL9','VRTL10', 'VRTL11']\n",
    "#participants = ['VRTL3']\n",
    "flip_label = ['VRTL6','VRTL8','VRTL9','VRTL10']\n",
    "session_label = ['S5','S6']\n",
    "camera = 'Camera6'\n",
    "\n",
    "# Dictionary to store data for easy access and analysis\n",
    "session_A = [] #temporally distant \n",
    "session_B = [] #temporally closer\n",
    "\n",
    "# Loop through each participant to extract the S4 entropy\n",
    "for participant in participants:\n",
    "    if participant in flip_label: \n",
    "        #path_session_B = f\"{direc}/{participant}/eyetracking/preprocessed/preprocessed_{participant}S5_{camera}.csv\"\n",
    "        #session_A = f\"{direc}/{participant}/eyetracking/preprocessed/preprocessed_{participant}S6_{camera}.csv\"\n",
    "        participant_sessionB = pd.read_csv(f\"{direc}/{participant}/eyetracking/preprocessed/preprocessed_{participant}S5_{camera}.csv\")\n",
    "        participant_sessionA = pd.read_csv(f\"{direc}/{participant}/eyetracking/preprocessed/preprocessed_{participant}S6_{camera}.csv\")\n",
    "        participant_sessionB['participant'] = participant\n",
    "        participant_sessionA['participant'] = participant\n",
    "        \n",
    "    else:\n",
    "        participant_sessionA = pd.read_csv(f\"{direc}/{participant}/eyetracking/preprocessed/preprocessed_{participant}S5_{camera}.csv\")\n",
    "        participant_sessionB = pd.read_csv(f\"{direc}/{participant}/eyetracking/preprocessed/preprocessed_{participant}S6_{camera}.csv\")\n",
    "        participant_sessionB['participant'] = participant\n",
    "        participant_sessionA['participant'] = participant\n",
    "        \n",
    "    session_A.append(participant_sessionA)\n",
    "    session_B.append(participant_sessionB)\n",
    "\n",
    "combined_sessionA = pd.concat(session_A, ignore_index = True)\n",
    "combined_sessionB = pd.concat(session_B, ignore_index = True)\n"
   ]
  },
  {
   "cell_type": "code",
   "execution_count": 4,
   "metadata": {},
   "outputs": [],
   "source": [
    "#test S1 + S2\n",
    "\n",
    "direc = '/Users/catherinekim/Desktop/VRTL'\n",
    "participants = ['VRTL3', 'VRTL6', 'VRTL8', 'VRTL9', 'VRTL10', 'VRTL11']\n",
    "#participants = ['VRTL3']\n",
    "session_label = ['S1','S2']\n",
    "camera = 'Camera6'\n",
    "\n",
    "entire_data = []\n",
    "# Loop through each participant to extract the S4 entropy\n",
    "for participant in participants:\n",
    "    # Construct the file path for each participant's entropy file\n",
    "    for session in session_label:\n",
    "        file_path = f\"{direc}/{participant}/eyetracking/preprocessed/preprocessed_{participant}{session}_{camera}.csv\"\n",
    "        data = pd.read_csv(file_path)\n",
    "        data['participant'] = participant\n",
    "\n",
    "        filtered_data = data[['participant','timepoint', 'x_pos_pixel','y_pos_pixel']]\n",
    "        \n",
    "        entire_data.append(filtered_data)\n",
    "    \n",
    "S1_S2_combined_data = pd.concat(entire_data, ignore_index = True)\n",
    "#output_file = f\"{direc}/VRTL_input_classifier.csv\"\n",
    "#combined_data.to_csv(output_file, index=False)"
   ]
  },
  {
   "cell_type": "code",
   "execution_count": 5,
   "metadata": {},
   "outputs": [],
   "source": [
    "def create_sequences(data, sequence_length=1500, stride=40):\n",
    "    grouped_data = data.groupby('participant')  # Group by participants\n",
    "    sequences = []\n",
    "    scaler = MinMaxScaler()\n",
    "\n",
    "    # Iterate through each participant's data\n",
    "    for participant, group in grouped_data:\n",
    "        # Extract features\n",
    "        features = group[['timepoint', 'x_pos_pixel', 'y_pos_pixel']].values\n",
    "        features_scaled = scaler.fit_transform(features)\n",
    "\n",
    "        # Create sequences using a sliding window\n",
    "        for i in range(0, len(features_scaled) - sequence_length + 1, stride):\n",
    "            sequence = features_scaled[i:i+sequence_length]\n",
    "            sequences.append(sequence)\n",
    "    \n",
    "    return np.array(sequences)"
   ]
  },
  {
   "cell_type": "code",
   "execution_count": 6,
   "metadata": {},
   "outputs": [
    {
     "name": "stdout",
     "output_type": "stream",
     "text": [
      "\u001b[1m59/59\u001b[0m \u001b[32m━━━━━━━━━━━━━━━━━━━━\u001b[0m\u001b[37m\u001b[0m \u001b[1m22s\u001b[0m 363ms/step\n"
     ]
    },
    {
     "data": {
      "text/plain": [
       "array([0.41305277, 0.58694744], dtype=float32)"
      ]
     },
     "execution_count": 6,
     "metadata": {},
     "output_type": "execute_result"
    }
   ],
   "source": [
    "sequences = create_sequences(S1_S2_combined_data)\n",
    "probabilities_S1S2 = model.predict(sequences)\n",
    "np.mean(probabilities_S1S2,axis=0)"
   ]
  },
  {
   "cell_type": "code",
   "execution_count": 54,
   "metadata": {},
   "outputs": [
    {
     "data": {
      "text/plain": [
       "array([0.33287635, 0.6671238 ], dtype=float32)"
      ]
     },
     "execution_count": 54,
     "metadata": {},
     "output_type": "execute_result"
    }
   ],
   "source": []
  },
  {
   "cell_type": "code",
   "execution_count": 58,
   "metadata": {},
   "outputs": [
    {
     "name": "stdout",
     "output_type": "stream",
     "text": [
      "\u001b[1m28/28\u001b[0m \u001b[32m━━━━━━━━━━━━━━━━━━━━\u001b[0m\u001b[37m\u001b[0m \u001b[1m12s\u001b[0m 396ms/step\n",
      "\u001b[1m30/30\u001b[0m \u001b[32m━━━━━━━━━━━━━━━━━━━━\u001b[0m\u001b[37m\u001b[0m \u001b[1m12s\u001b[0m 399ms/step\n"
     ]
    },
    {
     "name": "stderr",
     "output_type": "stream",
     "text": [
      "/Users/catherinekim/Library/Python/3.9/lib/python/site-packages/numpy/core/fromnumeric.py:3504: RuntimeWarning: Mean of empty slice.\n",
      "  return _methods._mean(a, axis=axis, dtype=dtype,\n",
      "/Users/catherinekim/Library/Python/3.9/lib/python/site-packages/numpy/core/_methods.py:121: RuntimeWarning: invalid value encountered in divide\n",
      "  ret = um.true_divide(\n"
     ]
    }
   ],
   "source": [
    "sequences_sessionA = create_sequences(combined_sessionA)\n",
    "sequences_sessionB = create_sequences(combined_sessionB)\n",
    "\n",
    "probabilities_sessionA = model.predict(sequences_sessionA) #temporally distant\n",
    "probabilities_sessionB = model.predict(sequences_sessionB) #temporally closer\n",
    "\n",
    "avg_probabilities_sessionA = np.mean(probabilities_sessionA[len(probabilities_sessionA):], axis=0)\n",
    "avg_probabilities_sessionB = np.mean(probabilities_sessionB[len(probabilities_sessionB):], axis=0)"
   ]
  },
  {
   "cell_type": "code",
   "execution_count": 59,
   "metadata": {},
   "outputs": [
    {
     "name": "stdout",
     "output_type": "stream",
     "text": [
      "[nan nan]\n",
      "[nan nan]\n"
     ]
    }
   ],
   "source": [
    "print(avg_probabilities_sessionA)\n",
    "print(avg_probabilities_sessionB)"
   ]
  },
  {
   "cell_type": "code",
   "execution_count": 43,
   "metadata": {},
   "outputs": [
    {
     "data": {
      "text/plain": [
       "<Axes: ylabel='Count'>"
      ]
     },
     "execution_count": 43,
     "metadata": {},
     "output_type": "execute_result"
    },
    {
     "data": {
      "image/png": "[encoded data removed]",
      "text/plain": [
       "<Figure size 640x480 with 1 Axes>"
      ]
     },
     "metadata": {},
     "output_type": "display_data"
    }
   ],
   "source": [
    "sns.histplot(probabilities_sessionA)"
   ]
  },
  {
   "cell_type": "code",
   "execution_count": 44,
   "metadata": {},
   "outputs": [
    {
     "data": {
      "text/plain": [
       "<Axes: ylabel='Count'>"
      ]
     },
     "execution_count": 44,
     "metadata": {},
     "output_type": "execute_result"
    },
    {
     "data": {
      "image/png": "[encoded data removed]",
      "text/plain": [
       "<Figure size 640x480 with 1 Axes>"
      ]
     },
     "metadata": {},
     "output_type": "display_data"
    }
   ],
   "source": [
    "sns.histplot(probabilities_sessionB)"
   ]
  },
  {
   "cell_type": "code",
   "execution_count": 46,
   "metadata": {},
   "outputs": [
    {
     "name": "stdout",
     "output_type": "stream",
     "text": [
      "Session A Probabilities (for labels 0 and 1):\n",
      "[0.28827178 0.7117288 ]\n",
      "Session B Probabilities (for labels 0 and 1):\n",
      "[0.2846849 0.7153155]\n"
     ]
    }
   ],
   "source": [
    "# Print results\n",
    "\n",
    "avg_probabilities_sessionA = np.mean(probabilities_sessionA, axis=0)\n",
    "avg_probabilities_sessionB = np.mean(probabilities_sessionB, axis=0)\n",
    "\n",
    "print(\"Session A Probabilities (for labels 0 and 1):\")\n",
    "print(avg_probabilities_sessionA)\n",
    "print(\"Session B Probabilities (for labels 0 and 1):\")\n",
    "print(avg_probabilities_sessionB)\n",
    "\n",
    "\n",
    "# print(\"\\nSession 5 Probabilities (for labels 0 and 1):\")\n",
    "# print(probabilities_sessionB)"
   ]
  },
  {
   "cell_type": "code",
   "execution_count": 3,
   "metadata": {},
   "outputs": [],
   "source": [
    "X = combined_data[['timepoint','x_pos_pixel', 'y_pos_pixel']].values\n",
    "y = combined_data['label'].values\n",
    "\n",
    "#normalize to improve model performance\n",
    "scaler = MinMaxScaler()\n",
    "X = scaler.fit_transform(X)\n"
   ]
  },
  {
   "cell_type": "code",
   "execution_count": 10,
   "metadata": {},
   "outputs": [],
   "source": [
    "grouped_data = combined_data.groupby(['participant']) #group by participants\n",
    "\n",
    "#sequence_length = 2500 # change length for contextual information The zombie sequence is around 3000\n",
    "sequence_length = 2500\n",
    "stride = 40\n",
    "\n",
    "X_sequences = []\n",
    "y_labels = []\n",
    "\n",
    "for participant, group in grouped_data: #RNN- creating sequences seperating participants\n",
    "    # Extract features and labels for this participant\n",
    "    X_participant = group[['timepoint', 'x_pos_pixel', 'y_pos_pixel']].values\n",
    "    y_participant = group['label'].values\n",
    "\n",
    "    # Create sequences for this participant\n",
    "    for i in range(0, len(X_participant) - sequence_length + 1, stride):\n",
    "        sequence = X_participant[i:i+sequence_length]\n",
    "        label = y_participant[i+sequence_length-1]  # Label based on the last time step\n",
    "        X_sequences.append(sequence)\n",
    "        y_labels.append(label)"
   ]
  },
  {
   "cell_type": "code",
   "execution_count": 11,
   "metadata": {},
   "outputs": [],
   "source": [
    "X_padded = pad_sequences(X_sequences, padding='post', dtype='float32') #Padding: for LSTM- X needs to have same size\n",
    "y_categorical = to_categorical(y_labels) #convert to one-hot encoding\n"
   ]
  },
  {
   "cell_type": "code",
   "execution_count": 12,
   "metadata": {},
   "outputs": [],
   "source": [
    "#train + split data\n",
    "X_train, X_test, y_train, y_test = train_test_split(X_padded, y_categorical, test_size=0.2, random_state=42)"
   ]
  },
  {
   "cell_type": "markdown",
   "metadata": {},
   "source": []
  },
  {
   "cell_type": "code",
   "execution_count": 57,
   "metadata": {},
   "outputs": [
    {
     "name": "stdout",
     "output_type": "stream",
     "text": [
      "Epoch 1/40\n"
     ]
    },
    {
     "name": "stderr",
     "output_type": "stream",
     "text": [
      "/Users/catherinekim/Library/Python/3.9/lib/python/site-packages/keras/src/layers/rnn/rnn.py:200: UserWarning: Do not pass an `input_shape`/`input_dim` argument to a layer. When using Sequential models, prefer using an `Input(shape)` object as the first layer in the model instead.\n",
      "  super().__init__(**kwargs)\n"
     ]
    },
    {
     "name": "stdout",
     "output_type": "stream",
     "text": [
      "\u001b[1m63/63\u001b[0m \u001b[32m━━━━━━━━━━━━━━━━━━━━\u001b[0m\u001b[37m\u001b[0m \u001b[1m0s\u001b[0m 3s/step - accuracy: 0.5586 - loss: 0.6788 - precision: 0.5586 - recall: 0.5586\n",
      "Epoch 1: val_loss improved from inf to 0.65076, saving model to best_model.keras\n",
      "\u001b[1m63/63\u001b[0m \u001b[32m━━━━━━━━━━━━━━━━━━━━\u001b[0m\u001b[37m\u001b[0m \u001b[1m192s\u001b[0m 3s/step - accuracy: 0.5589 - loss: 0.6787 - precision: 0.5589 - recall: 0.5589 - val_accuracy: 0.6720 - val_loss: 0.6508 - val_precision: 0.6720 - val_recall: 0.6720\n",
      "Epoch 2/40\n",
      "\u001b[1m63/63\u001b[0m \u001b[32m━━━━━━━━━━━━━━━━━━━━\u001b[0m\u001b[37m\u001b[0m \u001b[1m0s\u001b[0m 3s/step - accuracy: 0.5848 - loss: 0.6686 - precision: 0.5848 - recall: 0.5848\n",
      "Epoch 2: val_loss improved from 0.65076 to 0.62149, saving model to best_model.keras\n",
      "\u001b[1m63/63\u001b[0m \u001b[32m━━━━━━━━━━━━━━━━━━━━\u001b[0m\u001b[37m\u001b[0m \u001b[1m171s\u001b[0m 3s/step - accuracy: 0.5851 - loss: 0.6684 - precision: 0.5851 - recall: 0.5851 - val_accuracy: 0.7000 - val_loss: 0.6215 - val_precision: 0.7000 - val_recall: 0.7000\n",
      "Epoch 3/40\n",
      "\u001b[1m63/63\u001b[0m \u001b[32m━━━━━━━━━━━━━━━━━━━━\u001b[0m\u001b[37m\u001b[0m \u001b[1m0s\u001b[0m 3s/step - accuracy: 0.6685 - loss: 0.6323 - precision: 0.6685 - recall: 0.6685\n",
      "Epoch 3: val_loss improved from 0.62149 to 0.58906, saving model to best_model.keras\n",
      "\u001b[1m63/63\u001b[0m \u001b[32m━━━━━━━━━━━━━━━━━━━━\u001b[0m\u001b[37m\u001b[0m \u001b[1m185s\u001b[0m 3s/step - accuracy: 0.6687 - loss: 0.6322 - precision: 0.6687 - recall: 0.6687 - val_accuracy: 0.7080 - val_loss: 0.5891 - val_precision: 0.7080 - val_recall: 0.7080\n",
      "Epoch 4/40\n",
      "\u001b[1m63/63\u001b[0m \u001b[32m━━━━━━━━━━━━━━━━━━━━\u001b[0m\u001b[37m\u001b[0m \u001b[1m0s\u001b[0m 3s/step - accuracy: 0.6969 - loss: 0.6084 - precision: 0.6969 - recall: 0.6969\n",
      "Epoch 4: val_loss improved from 0.58906 to 0.55361, saving model to best_model.keras\n",
      "\u001b[1m63/63\u001b[0m \u001b[32m━━━━━━━━━━━━━━━━━━━━\u001b[0m\u001b[37m\u001b[0m \u001b[1m177s\u001b[0m 3s/step - accuracy: 0.6966 - loss: 0.6085 - precision: 0.6966 - recall: 0.6966 - val_accuracy: 0.7280 - val_loss: 0.5536 - val_precision: 0.7280 - val_recall: 0.7280\n",
      "Epoch 5/40\n",
      "\u001b[1m63/63\u001b[0m \u001b[32m━━━━━━━━━━━━━━━━━━━━\u001b[0m\u001b[37m\u001b[0m \u001b[1m0s\u001b[0m 3s/step - accuracy: 0.6768 - loss: 0.6038 - precision: 0.6768 - recall: 0.6768\n",
      "Epoch 5: val_loss improved from 0.55361 to 0.51381, saving model to best_model.keras\n",
      "\u001b[1m63/63\u001b[0m \u001b[32m━━━━━━━━━━━━━━━━━━━━\u001b[0m\u001b[37m\u001b[0m \u001b[1m180s\u001b[0m 3s/step - accuracy: 0.6772 - loss: 0.6037 - precision: 0.6772 - recall: 0.6772 - val_accuracy: 0.8080 - val_loss: 0.5138 - val_precision: 0.8080 - val_recall: 0.8080\n",
      "Epoch 6/40\n",
      "\u001b[1m63/63\u001b[0m \u001b[32m━━━━━━━━━━━━━━━━━━━━\u001b[0m\u001b[37m\u001b[0m \u001b[1m0s\u001b[0m 3s/step - accuracy: 0.7390 - loss: 0.5693 - precision: 0.7390 - recall: 0.7390\n",
      "Epoch 6: val_loss improved from 0.51381 to 0.48013, saving model to best_model.keras\n",
      "\u001b[1m63/63\u001b[0m \u001b[32m━━━━━━━━━━━━━━━━━━━━\u001b[0m\u001b[37m\u001b[0m \u001b[1m184s\u001b[0m 3s/step - accuracy: 0.7386 - loss: 0.5694 - precision: 0.7386 - recall: 0.7386 - val_accuracy: 0.8240 - val_loss: 0.4801 - val_precision: 0.8240 - val_recall: 0.8240\n",
      "Epoch 7/40\n",
      "\u001b[1m63/63\u001b[0m \u001b[32m━━━━━━━━━━━━━━━━━━━━\u001b[0m\u001b[37m\u001b[0m \u001b[1m0s\u001b[0m 3s/step - accuracy: 0.7446 - loss: 0.5232 - precision: 0.7446 - recall: 0.7446\n",
      "Epoch 7: val_loss improved from 0.48013 to 0.45673, saving model to best_model.keras\n",
      "\u001b[1m63/63\u001b[0m \u001b[32m━━━━━━━━━━━━━━━━━━━━\u001b[0m\u001b[37m\u001b[0m \u001b[1m172s\u001b[0m 3s/step - accuracy: 0.7446 - loss: 0.5234 - precision: 0.7446 - recall: 0.7446 - val_accuracy: 0.8000 - val_loss: 0.4567 - val_precision: 0.8000 - val_recall: 0.8000\n",
      "Epoch 8/40\n",
      "\u001b[1m63/63\u001b[0m \u001b[32m━━━━━━━━━━━━━━━━━━━━\u001b[0m\u001b[37m\u001b[0m \u001b[1m0s\u001b[0m 3s/step - accuracy: 0.7823 - loss: 0.5123 - precision: 0.7823 - recall: 0.7823\n",
      "Epoch 8: val_loss improved from 0.45673 to 0.43601, saving model to best_model.keras\n",
      "\u001b[1m63/63\u001b[0m \u001b[32m━━━━━━━━━━━━━━━━━━━━\u001b[0m\u001b[37m\u001b[0m \u001b[1m173s\u001b[0m 3s/step - accuracy: 0.7822 - loss: 0.5122 - precision: 0.7822 - recall: 0.7822 - val_accuracy: 0.8040 - val_loss: 0.4360 - val_precision: 0.8040 - val_recall: 0.8040\n",
      "Epoch 9/40\n",
      "\u001b[1m63/63\u001b[0m \u001b[32m━━━━━━━━━━━━━━━━━━━━\u001b[0m\u001b[37m\u001b[0m \u001b[1m0s\u001b[0m 3s/step - accuracy: 0.8130 - loss: 0.4691 - precision: 0.8130 - recall: 0.8130\n",
      "Epoch 9: val_loss improved from 0.43601 to 0.38806, saving model to best_model.keras\n",
      "\u001b[1m63/63\u001b[0m \u001b[32m━━━━━━━━━━━━━━━━━━━━\u001b[0m\u001b[37m\u001b[0m \u001b[1m190s\u001b[0m 3s/step - accuracy: 0.8129 - loss: 0.4692 - precision: 0.8129 - recall: 0.8129 - val_accuracy: 0.8320 - val_loss: 0.3881 - val_precision: 0.8320 - val_recall: 0.8320\n",
      "Epoch 10/40\n",
      "\u001b[1m63/63\u001b[0m \u001b[32m━━━━━━━━━━━━━━━━━━━━\u001b[0m\u001b[37m\u001b[0m \u001b[1m0s\u001b[0m 3s/step - accuracy: 0.8194 - loss: 0.4305 - precision: 0.8194 - recall: 0.8194\n",
      "Epoch 10: val_loss improved from 0.38806 to 0.38202, saving model to best_model.keras\n",
      "\u001b[1m63/63\u001b[0m \u001b[32m━━━━━━━━━━━━━━━━━━━━\u001b[0m\u001b[37m\u001b[0m \u001b[1m172s\u001b[0m 3s/step - accuracy: 0.8196 - loss: 0.4304 - precision: 0.8196 - recall: 0.8196 - val_accuracy: 0.8240 - val_loss: 0.3820 - val_precision: 0.8240 - val_recall: 0.8240\n",
      "Epoch 11/40\n",
      "\u001b[1m63/63\u001b[0m \u001b[32m━━━━━━━━━━━━━━━━━━━━\u001b[0m\u001b[37m\u001b[0m \u001b[1m0s\u001b[0m 3s/step - accuracy: 0.8399 - loss: 0.3884 - precision: 0.8399 - recall: 0.8399\n",
      "Epoch 11: val_loss improved from 0.38202 to 0.35985, saving model to best_model.keras\n",
      "\u001b[1m63/63\u001b[0m \u001b[32m━━━━━━━━━━━━━━━━━━━━\u001b[0m\u001b[37m\u001b[0m \u001b[1m172s\u001b[0m 3s/step - accuracy: 0.8398 - loss: 0.3886 - precision: 0.8398 - recall: 0.8398 - val_accuracy: 0.8440 - val_loss: 0.3598 - val_precision: 0.8440 - val_recall: 0.8440\n",
      "Epoch 12/40\n",
      "\u001b[1m63/63\u001b[0m \u001b[32m━━━━━━━━━━━━━━━━━━━━\u001b[0m\u001b[37m\u001b[0m \u001b[1m0s\u001b[0m 3s/step - accuracy: 0.8400 - loss: 0.3991 - precision: 0.8400 - recall: 0.8400\n",
      "Epoch 12: val_loss improved from 0.35985 to 0.35898, saving model to best_model.keras\n",
      "\u001b[1m63/63\u001b[0m \u001b[32m━━━━━━━━━━━━━━━━━━━━\u001b[0m\u001b[37m\u001b[0m \u001b[1m186s\u001b[0m 3s/step - accuracy: 0.8401 - loss: 0.3989 - precision: 0.8401 - recall: 0.8401 - val_accuracy: 0.8440 - val_loss: 0.3590 - val_precision: 0.8440 - val_recall: 0.8440\n",
      "Epoch 13/40\n",
      "\u001b[1m63/63\u001b[0m \u001b[32m━━━━━━━━━━━━━━━━━━━━\u001b[0m\u001b[37m\u001b[0m \u001b[1m0s\u001b[0m 3s/step - accuracy: 0.8565 - loss: 0.3610 - precision: 0.8565 - recall: 0.8565\n",
      "Epoch 13: val_loss did not improve from 0.35898\n",
      "\u001b[1m63/63\u001b[0m \u001b[32m━━━━━━━━━━━━━━━━━━━━\u001b[0m\u001b[37m\u001b[0m \u001b[1m184s\u001b[0m 3s/step - accuracy: 0.8565 - loss: 0.3612 - precision: 0.8565 - recall: 0.8565 - val_accuracy: 0.8040 - val_loss: 0.4135 - val_precision: 0.8040 - val_recall: 0.8040\n",
      "Epoch 14/40\n",
      "\u001b[1m63/63\u001b[0m \u001b[32m━━━━━━━━━━━━━━━━━━━━\u001b[0m\u001b[37m\u001b[0m \u001b[1m0s\u001b[0m 3s/step - accuracy: 0.8371 - loss: 0.4045 - precision: 0.8371 - recall: 0.8371\n",
      "Epoch 14: val_loss did not improve from 0.35898\n",
      "\u001b[1m63/63\u001b[0m \u001b[32m━━━━━━━━━━━━━━━━━━━━\u001b[0m\u001b[37m\u001b[0m \u001b[1m171s\u001b[0m 3s/step - accuracy: 0.8373 - loss: 0.4044 - precision: 0.8373 - recall: 0.8373 - val_accuracy: 0.8120 - val_loss: 0.4055 - val_precision: 0.8120 - val_recall: 0.8120\n",
      "Epoch 15/40\n",
      "\u001b[1m63/63\u001b[0m \u001b[32m━━━━━━━━━━━━━━━━━━━━\u001b[0m\u001b[37m\u001b[0m \u001b[1m0s\u001b[0m 2s/step - accuracy: 0.8810 - loss: 0.3393 - precision: 0.8810 - recall: 0.8810\n",
      "Epoch 15: val_loss improved from 0.35898 to 0.30125, saving model to best_model.keras\n",
      "\u001b[1m63/63\u001b[0m \u001b[32m━━━━━━━━━━━━━━━━━━━━\u001b[0m\u001b[37m\u001b[0m \u001b[1m163s\u001b[0m 3s/step - accuracy: 0.8810 - loss: 0.3393 - precision: 0.8810 - recall: 0.8810 - val_accuracy: 0.8920 - val_loss: 0.3013 - val_precision: 0.8920 - val_recall: 0.8920\n",
      "Epoch 16/40\n",
      "\u001b[1m63/63\u001b[0m \u001b[32m━━━━━━━━━━━━━━━━━━━━\u001b[0m\u001b[37m\u001b[0m \u001b[1m0s\u001b[0m 2s/step - accuracy: 0.8876 - loss: 0.3221 - precision: 0.8876 - recall: 0.8876\n",
      "Epoch 16: val_loss did not improve from 0.30125\n",
      "\u001b[1m63/63\u001b[0m \u001b[32m━━━━━━━━━━━━━━━━━━━━\u001b[0m\u001b[37m\u001b[0m \u001b[1m159s\u001b[0m 3s/step - accuracy: 0.8875 - loss: 0.3221 - precision: 0.8875 - recall: 0.8875 - val_accuracy: 0.8680 - val_loss: 0.3499 - val_precision: 0.8680 - val_recall: 0.8680\n",
      "Epoch 17/40\n",
      "\u001b[1m63/63\u001b[0m \u001b[32m━━━━━━━━━━━━━━━━━━━━\u001b[0m\u001b[37m\u001b[0m \u001b[1m0s\u001b[0m 2s/step - accuracy: 0.8914 - loss: 0.3127 - precision: 0.8914 - recall: 0.8914\n",
      "Epoch 17: val_loss did not improve from 0.30125\n",
      "\u001b[1m63/63\u001b[0m \u001b[32m━━━━━━━━━━━━━━━━━━━━\u001b[0m\u001b[37m\u001b[0m \u001b[1m163s\u001b[0m 3s/step - accuracy: 0.8914 - loss: 0.3127 - precision: 0.8914 - recall: 0.8914 - val_accuracy: 0.8760 - val_loss: 0.3513 - val_precision: 0.8760 - val_recall: 0.8760\n",
      "Epoch 18/40\n",
      "\u001b[1m63/63\u001b[0m \u001b[32m━━━━━━━━━━━━━━━━━━━━\u001b[0m\u001b[37m\u001b[0m \u001b[1m0s\u001b[0m 2s/step - accuracy: 0.8940 - loss: 0.3226 - precision: 0.8940 - recall: 0.8940\n",
      "Epoch 18: val_loss did not improve from 0.30125\n",
      "\u001b[1m63/63\u001b[0m \u001b[32m━━━━━━━━━━━━━━━━━━━━\u001b[0m\u001b[37m\u001b[0m \u001b[1m159s\u001b[0m 3s/step - accuracy: 0.8941 - loss: 0.3225 - precision: 0.8941 - recall: 0.8941 - val_accuracy: 0.8880 - val_loss: 0.3184 - val_precision: 0.8880 - val_recall: 0.8880\n",
      "Epoch 19/40\n",
      "\u001b[1m63/63\u001b[0m \u001b[32m━━━━━━━━━━━━━━━━━━━━\u001b[0m\u001b[37m\u001b[0m \u001b[1m0s\u001b[0m 2s/step - accuracy: 0.9055 - loss: 0.2989 - precision: 0.9055 - recall: 0.9055\n",
      "Epoch 19: val_loss improved from 0.30125 to 0.29087, saving model to best_model.keras\n",
      "\u001b[1m63/63\u001b[0m \u001b[32m━━━━━━━━━━━━━━━━━━━━\u001b[0m\u001b[37m\u001b[0m \u001b[1m157s\u001b[0m 2s/step - accuracy: 0.9054 - loss: 0.2990 - precision: 0.9054 - recall: 0.9054 - val_accuracy: 0.9080 - val_loss: 0.2909 - val_precision: 0.9080 - val_recall: 0.9080\n",
      "Epoch 20/40\n",
      "\u001b[1m63/63\u001b[0m \u001b[32m━━━━━━━━━━━━━━━━━━━━\u001b[0m\u001b[37m\u001b[0m \u001b[1m0s\u001b[0m 2s/step - accuracy: 0.8962 - loss: 0.2980 - precision: 0.8962 - recall: 0.8962\n",
      "Epoch 20: val_loss did not improve from 0.29087\n",
      "\u001b[1m63/63\u001b[0m \u001b[32m━━━━━━━━━━━━━━━━━━━━\u001b[0m\u001b[37m\u001b[0m \u001b[1m159s\u001b[0m 3s/step - accuracy: 0.8962 - loss: 0.2979 - precision: 0.8962 - recall: 0.8962 - val_accuracy: 0.8960 - val_loss: 0.2981 - val_precision: 0.8960 - val_recall: 0.8960\n",
      "Epoch 21/40\n",
      "\u001b[1m63/63\u001b[0m \u001b[32m━━━━━━━━━━━━━━━━━━━━\u001b[0m\u001b[37m\u001b[0m \u001b[1m0s\u001b[0m 2s/step - accuracy: 0.8834 - loss: 0.3141 - precision: 0.8834 - recall: 0.8834\n",
      "Epoch 21: val_loss improved from 0.29087 to 0.25663, saving model to best_model.keras\n",
      "\u001b[1m63/63\u001b[0m \u001b[32m━━━━━━━━━━━━━━━━━━━━\u001b[0m\u001b[37m\u001b[0m \u001b[1m159s\u001b[0m 3s/step - accuracy: 0.8837 - loss: 0.3138 - precision: 0.8837 - recall: 0.8837 - val_accuracy: 0.9160 - val_loss: 0.2566 - val_precision: 0.9160 - val_recall: 0.9160\n",
      "Epoch 22/40\n",
      "\u001b[1m63/63\u001b[0m \u001b[32m━━━━━━━━━━━━━━━━━━━━\u001b[0m\u001b[37m\u001b[0m \u001b[1m0s\u001b[0m 2s/step - accuracy: 0.9297 - loss: 0.2616 - precision: 0.9297 - recall: 0.9297\n",
      "Epoch 22: val_loss did not improve from 0.25663\n",
      "\u001b[1m63/63\u001b[0m \u001b[32m━━━━━━━━━━━━━━━━━━━━\u001b[0m\u001b[37m\u001b[0m \u001b[1m162s\u001b[0m 3s/step - accuracy: 0.9295 - loss: 0.2618 - precision: 0.9295 - recall: 0.9295 - val_accuracy: 0.8960 - val_loss: 0.3047 - val_precision: 0.8960 - val_recall: 0.8960\n",
      "Epoch 23/40\n",
      "\u001b[1m63/63\u001b[0m \u001b[32m━━━━━━━━━━━━━━━━━━━━\u001b[0m\u001b[37m\u001b[0m \u001b[1m0s\u001b[0m 3s/step - accuracy: 0.9121 - loss: 0.2631 - precision: 0.9121 - recall: 0.9121\n",
      "Epoch 23: val_loss did not improve from 0.25663\n",
      "\u001b[1m63/63\u001b[0m \u001b[32m━━━━━━━━━━━━━━━━━━━━\u001b[0m\u001b[37m\u001b[0m \u001b[1m174s\u001b[0m 3s/step - accuracy: 0.9119 - loss: 0.2638 - precision: 0.9119 - recall: 0.9119 - val_accuracy: 0.9080 - val_loss: 0.2821 - val_precision: 0.9080 - val_recall: 0.9080\n",
      "Epoch 24/40\n",
      "\u001b[1m63/63\u001b[0m \u001b[32m━━━━━━━━━━━━━━━━━━━━\u001b[0m\u001b[37m\u001b[0m \u001b[1m0s\u001b[0m 3s/step - accuracy: 0.9178 - loss: 0.2593 - precision: 0.9178 - recall: 0.9178\n",
      "Epoch 24: val_loss did not improve from 0.25663\n",
      "\u001b[1m63/63\u001b[0m \u001b[32m━━━━━━━━━━━━━━━━━━━━\u001b[0m\u001b[37m\u001b[0m \u001b[1m186s\u001b[0m 3s/step - accuracy: 0.9177 - loss: 0.2596 - precision: 0.9177 - recall: 0.9177 - val_accuracy: 0.9160 - val_loss: 0.2688 - val_precision: 0.9160 - val_recall: 0.9160\n",
      "Epoch 25/40\n",
      "\u001b[1m63/63\u001b[0m \u001b[32m━━━━━━━━━━━━━━━━━━━━\u001b[0m\u001b[37m\u001b[0m \u001b[1m0s\u001b[0m 3s/step - accuracy: 0.9195 - loss: 0.2531 - precision: 0.9195 - recall: 0.9195\n",
      "Epoch 25: val_loss did not improve from 0.25663\n",
      "\u001b[1m63/63\u001b[0m \u001b[32m━━━━━━━━━━━━━━━━━━━━\u001b[0m\u001b[37m\u001b[0m \u001b[1m173s\u001b[0m 3s/step - accuracy: 0.9194 - loss: 0.2534 - precision: 0.9194 - recall: 0.9194 - val_accuracy: 0.8840 - val_loss: 0.3493 - val_precision: 0.8840 - val_recall: 0.8840\n",
      "Epoch 26/40\n",
      "\u001b[1m63/63\u001b[0m \u001b[32m━━━━━━━━━━━━━━━━━━━━\u001b[0m\u001b[37m\u001b[0m \u001b[1m0s\u001b[0m 3s/step - accuracy: 0.9139 - loss: 0.2784 - precision: 0.9139 - recall: 0.9139\n",
      "Epoch 26: val_loss did not improve from 0.25663\n",
      "\u001b[1m63/63\u001b[0m \u001b[32m━━━━━━━━━━━━━━━━━━━━\u001b[0m\u001b[37m\u001b[0m \u001b[1m170s\u001b[0m 3s/step - accuracy: 0.9137 - loss: 0.2789 - precision: 0.9137 - recall: 0.9137 - val_accuracy: 0.8640 - val_loss: 0.3713 - val_precision: 0.8640 - val_recall: 0.8640\n"
     ]
    }
   ],
   "source": [
    "model = Sequential([\n",
    "    # First LSTM layer (returns sequences for stacking)\n",
    "    LSTM(128, activation='tanh', return_sequences=True, input_shape=(X_train.shape[1], X_train.shape[2])),\n",
    "    Dropout(0.5),  # Dropout for regularization\n",
    "    # SeqSelfAttention(attention_width=15, #attention mechanism to focus on most important timesteps\n",
    "    #                  attention_type=SeqSelfAttention.ATTENTION_TYPE_MUL,  # Multiplicative attention\n",
    "    #                  attention_activation='softmax'),\n",
    "    LSTM(64, activation='tanh', return_sequences=True),\n",
    "    Dropout(0.5),\n",
    "    Dense(64, activation='relu'),\n",
    "    Dropout(0.3),\n",
    "    LSTM(32, activation='tanh', return_sequences=False),  # New LSTM layer\n",
    "    Dropout(0.5),\n",
    "    Dense(32, activation='relu'),\n",
    "    Dropout(0.3),\n",
    "    Dense(2, activation='softmax')  # Output layer for binary classification\n",
    "])\n",
    "\n",
    "Optimizer = Adam(learning_rate=0.00005)\n",
    "# Compile the model\n",
    "model.compile(optimizer = Optimizer, loss='categorical_crossentropy', metrics=['accuracy', tf.keras.metrics.Precision(), tf.keras.metrics.Recall()])\n",
    "\n",
    "checkpoint = ModelCheckpoint(filepath='best_model.keras', monitor='val_loss', save_best_only=True, verbose=1)\n",
    "\n",
    "#model.summary()\n",
    "#early stopping for when model stops learning in training.\n",
    "early_stopping = EarlyStopping(monitor='val_loss', patience=5, restore_best_weights=True) \n",
    "# Train the model\n",
    "history = model.fit(X_train, y_train, epochs=40, batch_size=16, validation_split=0.2, callbacks=[checkpoint,early_stopping]) #earlystopping to mitigate overfitting"
   ]
  },
  {
   "cell_type": "code",
   "execution_count": 21,
   "metadata": {},
   "outputs": [],
   "source": [
    "\n",
    "#save model\n",
    "model.save('/Users/catherinekim/Desktop/VRTL/best_model.keras')\n"
   ]
  },
  {
   "cell_type": "code",
   "execution_count": 1,
   "metadata": {},
   "outputs": [
    {
     "name": "stderr",
     "output_type": "stream",
     "text": [
      "/Users/catherinekim/Library/Python/3.9/lib/python/site-packages/urllib3/__init__.py:35: NotOpenSSLWarning: urllib3 v2 only supports OpenSSL 1.1.1+, currently the 'ssl' module is compiled with 'LibreSSL 2.8.3'. See: https://github.com/urllib3/urllib3/issues/3020\n",
      "  warnings.warn(\n"
     ]
    }
   ],
   "source": [
    "from tensorflow.keras.models import load_model\n",
    "model = load_model('/Users/catherinekim/Desktop/VRTL/best_model.keras')"
   ]
  },
  {
   "cell_type": "code",
   "execution_count": 16,
   "metadata": {},
   "outputs": [
    {
     "name": "stdout",
     "output_type": "stream",
     "text": [
      "\u001b[1m10/10\u001b[0m \u001b[32m━━━━━━━━━━━━━━━━━━━━\u001b[0m\u001b[37m\u001b[0m \u001b[1m6s\u001b[0m 568ms/step - accuracy: 0.9060 - loss: 0.2320\n",
      "test_loss: 0.2160763442516327\n",
      "test_accuracy: 0.9169328808784485\n"
     ]
    }
   ],
   "source": [
    "test_loss, test_accuracy = model.evaluate(X_test, y_test)\n",
    "print(f\"test_loss: {test_loss}\")\n",
    "print(f\"test_accuracy: {test_accuracy}\")"
   ]
  },
  {
   "cell_type": "markdown",
   "metadata": {},
   "source": []
  },
  {
   "cell_type": "code",
   "execution_count": null,
   "metadata": {},
   "outputs": [],
   "source": [
    "import matplotlib.pyplot as plt\n",
    "for sequence in X_sequences[:5]:  # Plot first few sequences\n",
    "    plt.plot(sequence[:, 0], sequence[:, 1])  # Plot x_pos_pixel vs. y_pos_pixel\n",
    "    plt.show()"
   ]
  },
  {
   "cell_type": "code",
   "execution_count": 14,
   "metadata": {},
   "outputs": [
    {
     "name": "stdout",
     "output_type": "stream",
     "text": [
      "Total number of samples: 10\n",
      "Training samples: 8\n",
      "Test samples: 2\n"
     ]
    }
   ],
   "source": [
    "print(f\"Total number of samples: {len(X_padded)}\")\n",
    "print(f\"Training samples: {len(X_train)}\")\n",
    "print(f\"Test samples: {len(X_test)}\")"
   ]
  },
  {
   "cell_type": "code",
   "execution_count": 15,
   "metadata": {},
   "outputs": [
    {
     "name": "stdout",
     "output_type": "stream",
     "text": [
      "participant  label\n",
      "VRTL11       1        7164\n",
      "dtype: int64\n"
     ]
    }
   ],
   "source": [
    "print(data.groupby(['participant', 'label']).size())"
   ]
  }
 ],
 "metadata": {
  "kernelspec": {
   "display_name": "Python 3",
   "language": "python",
   "name": "python3"
  },
  "language_info": {
   "codemirror_mode": {
    "name": "ipython",
    "version": 3
   },
   "file_extension": ".py",
   "mimetype": "text/x-python",
   "name": "python",
   "nbconvert_exporter": "python",
   "pygments_lexer": "ipython3",
   "version": "3.9.6"
  },
  "orig_nbformat": 4
 },
 "nbformat": 4,
 "nbformat_minor": 2
}
